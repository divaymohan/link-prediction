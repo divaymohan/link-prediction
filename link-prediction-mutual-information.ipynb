{
 "cells": [
  {
   "cell_type": "markdown",
   "metadata": {},
   "source": [
    "# Link Prediction with Mutual Information\n",
    "\n",
    "This is a tutorial to score the probability of observing an edge using the mutual information framework based on Tan et al (2014).\n",
    "\n",
    "Reference: Tan, F., Xia, Y. & Zhu, B. Link Prediction in Complex Networks: A Mutual Information Perspective. PLOS ONE 9, e107056 (2014).\n"
   ]
  },
  {
   "cell_type": "code",
   "execution_count": 1,
   "metadata": {},
   "outputs": [],
   "source": [
    "import networkx as nx\n",
    "import math\n",
    "import itertools\n",
    "import numpy as np"
   ]
  },
  {
   "cell_type": "markdown",
   "metadata": {},
   "source": [
    "# Define Graph"
   ]
  },
  {
   "cell_type": "code",
   "execution_count": 2,
   "metadata": {},
   "outputs": [
    {
     "data": {
      "image/png": "[encoded data removed]",
      "text/plain": [
       "<Figure size 432x288 with 1 Axes>"
      ]
     },
     "metadata": {},
     "output_type": "display_data"
    }
   ],
   "source": [
    "G = nx.Graph()\n",
    "edgeList = [(1, 2),(1, 3),(1, 4),(2, 4),(2, 5),(5, 6),(5, 7),(6, 7),(6, 8),(7, 8)]\n",
    "G.add_edges_from(edgeList)\n",
    "nx.draw(G, with_labels=True)"
   ]
  },
  {
   "cell_type": "markdown",
   "metadata": {},
   "source": [
    "# Mutual Information Framework\n",
    "\n",
    "$ s_{xy}^{MI} = \\sum_{z \\in O_{xy}} \\{ \\frac{1}{|\\Gamma(z)| (|\\Gamma(z)|-1)} \\sum_{m,n \\in \\Gamma(z)} [- \\log{p(L_{mn}^1)} + \\log{p(L_{mn}^1 | z)]} \\} + \\log{p(L_{xy}^1)} $"
   ]
  },
  {
   "cell_type": "code",
   "execution_count": 3,
   "metadata": {},
   "outputs": [],
   "source": [
    "# score based on mutual information\n",
    "def s(x , y, prior, likelihood):\n",
    "\n",
    "    # common neighbors\n",
    "    CN = nx.common_neighbors(G, x, y)\n",
    "\n",
    "    # prior (x, y)\n",
    "    priorXY = - np.log2(prior(x, y, G))\n",
    "\n",
    "    # sum over neighbors\n",
    "    cnMI = 0\n",
    "    for z in CN:\n",
    "        # degree of z\n",
    "        kz = G.degree(z)\n",
    "        coeffZ = 1 / (kz * (kz-1))\n",
    "\n",
    "        # sum over edges = neighbors of z\n",
    "        zMI = 0\n",
    "        for m, n in itertools.combinations(G.neighbors(z), 2):\n",
    "            priorInfo = - np.log2(prior(m, n, G))\n",
    "            likelihoodInfo = - np.log2(likelihood(z, G))\n",
    "\n",
    "            # combine mutual information\n",
    "            zMI += 2 * (priorInfo - likelihoodInfo)\n",
    "\n",
    "        # add average mutual information per neighbor\n",
    "        cnMI += coeffZ * zMI\n",
    "\n",
    "    return cnMI - priorXY"
   ]
  },
  {
   "cell_type": "markdown",
   "metadata": {},
   "source": [
    "# Define Model\n",
    "\n",
    "1. prior $ p(L_{mn}^1) $\n",
    "2. likelihood $ p(L_{mn}^1 | z) $\n",
    "\n"
   ]
  },
  {
   "cell_type": "code",
   "execution_count": 4,
   "metadata": {},
   "outputs": [
    {
     "data": {
      "text/plain": [
       "0.19999999999999996"
      ]
     },
     "execution_count": 4,
     "metadata": {},
     "output_type": "execute_result"
    }
   ],
   "source": [
    "def prior(m, n, G):\n",
    "    kn = G.degree(n)\n",
    "    km = G.degree(m)\n",
    "    M = G.number_of_edges()\n",
    "    \n",
    "    return 1 - math.comb(M-kn, km)/math.comb(M, km)\n",
    "\n",
    "prior(4, 3, G)"
   ]
  },
  {
   "cell_type": "code",
   "execution_count": 5,
   "metadata": {},
   "outputs": [
    {
     "data": {
      "text/plain": [
       "0.3333333333333333"
      ]
     },
     "execution_count": 5,
     "metadata": {},
     "output_type": "execute_result"
    }
   ],
   "source": [
    "def likelihood(z, G):\n",
    "    kz = G.degree(z)\n",
    "    N_triangles = nx.triangles(G, z)\n",
    "    N_triads = math.comb(kz, 2)\n",
    "    \n",
    "    return N_triangles / N_triads\n",
    "\n",
    "likelihood(1, G)"
   ]
  },
  {
   "cell_type": "markdown",
   "metadata": {},
   "source": [
    "# Calculate probability of link\n",
    "\n",
    "following example in the tutorial, we calculate the likelihood of observing edge between node $ v_2 $ and $ v_3 $ "
   ]
  },
  {
   "cell_type": "code",
   "execution_count": 6,
   "metadata": {},
   "outputs": [
    {
     "data": {
      "text/plain": [
       "-1.6666666666666665"
      ]
     },
     "execution_count": 6,
     "metadata": {},
     "output_type": "execute_result"
    }
   ],
   "source": [
    "s(2, 3, prior, likelihood)"
   ]
  },
  {
   "cell_type": "code",
   "execution_count": null,
   "metadata": {},
   "outputs": [],
   "source": []
  }
 ],
 "metadata": {
  "kernelspec": {
   "display_name": "Python 3.8.3 64-bit ('base': conda)",
   "language": "python",
   "name": "python38364bitbaseconda120ad53d38ce4a3490677ade9c913c76"
  },
  "language_info": {
   "codemirror_mode": {
    "name": "ipython",
    "version": 3
   },
   "file_extension": ".py",
   "mimetype": "text/x-python",
   "name": "python",
   "nbconvert_exporter": "python",
   "pygments_lexer": "ipython3",
   "version": "3.8.3"
  }
 },
 "nbformat": 4,
 "nbformat_minor": 4
}
